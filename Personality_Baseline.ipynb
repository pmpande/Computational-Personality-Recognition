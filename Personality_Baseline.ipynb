{
 "cells": [
  {
   "cell_type": "code",
   "execution_count": 1,
   "metadata": {
    "collapsed": false
   },
   "outputs": [
    {
     "name": "stdout",
     "output_type": "stream",
     "text": [
      "9917\n",
      "2469\n"
     ]
    }
   ],
   "source": [
    "import pandas as pd\n",
    "import json as js\n",
    "\n",
    "with open(\"/u/pmpande/author_profiling/Computational-Personality-Recognition/fb.json\") as f:\n",
    "    data_fb = pd.DataFrame(js.loads(line) for line in f)\n",
    "f.close()\n",
    "\n",
    "with open(\"/u/pmpande/author_profiling/Computational-Personality-Recognition/essays.json\") as f:\n",
    "    data_essays = pd.DataFrame(js.loads(line) for line in f)\n",
    "f.close()\n",
    "\n",
    "print(len(data_fb))\n",
    "print(len(data_essays))"
   ]
  },
  {
   "cell_type": "code",
   "execution_count": 2,
   "metadata": {
    "collapsed": true
   },
   "outputs": [],
   "source": [
    "data_fb.drop(data_fb.head(1).index, inplace=True)\n",
    "data_essays.drop(data_essays.head(1).index, inplace=True)"
   ]
  },
  {
   "cell_type": "code",
   "execution_count": 3,
   "metadata": {
    "collapsed": false
   },
   "outputs": [
    {
     "name": "stdout",
     "output_type": "stream",
     "text": [
      "0.5307941653160454\n",
      "0.5081037277147488\n",
      "0.5174230145867099\n",
      "0.49959481361426256\n",
      "0.5153970826580226\n"
     ]
    }
   ],
   "source": [
    "count1 = 0\n",
    "count2 = 0\n",
    "count3 = 0\n",
    "count4 = 0\n",
    "count5 = 0\n",
    "for row in data_essays.iterrows():\n",
    "    if row[1]['AGR'] == 'y': count1 += 1\n",
    "    if row[1]['CON'] == 'y': count2 += 1\n",
    "    if row[1]['EXT'] == 'y': count3 += 1\n",
    "    if row[1]['NEU'] == 'y': count4 += 1\n",
    "    if row[1]['OPN'] == 'y': count5 += 1\n",
    "print(str(count1/len(data_essays)))\n",
    "print(str(count2/len(data_essays)))\n",
    "print(str(count3/len(data_essays)))\n",
    "print(str(count4/len(data_essays)))\n",
    "print(str(count5/len(data_essays)))"
   ]
  },
  {
   "cell_type": "code",
   "execution_count": 4,
   "metadata": {
    "collapsed": false
   },
   "outputs": [
    {
     "name": "stdout",
     "output_type": "stream",
     "text": [
      "0.5312626058894716\n",
      "0.4594594594594595\n",
      "0.4245663574021783\n",
      "0.37474788221056876\n",
      "0.7431423961274708\n"
     ]
    }
   ],
   "source": [
    "count1 = 0\n",
    "count2 = 0\n",
    "count3 = 0\n",
    "count4 = 0\n",
    "count5 = 0\n",
    "for row in data_fb.iterrows():\n",
    "    if row[1]['AGR'] == 'y': count1 += 1\n",
    "    if row[1]['CON'] == 'y': count2 += 1\n",
    "    if row[1]['EXT'] == 'y': count3 += 1\n",
    "    if row[1]['NEU'] == 'y': count4 += 1\n",
    "    if row[1]['OPN'] == 'y': count5 += 1\n",
    "print(str(count1/len(data_fb)))\n",
    "print(str(count2/len(data_fb)))\n",
    "print(str(count3/len(data_fb)))\n",
    "print(str(count4/len(data_fb)))\n",
    "print(str(count5/len(data_fb)))"
   ]
  },
  {
   "cell_type": "code",
   "execution_count": 5,
   "metadata": {
    "collapsed": false
   },
   "outputs": [],
   "source": [
    "import random\n",
    "rand_fb = random.sample(range(1,len(data_fb)-1),1000) \n",
    "rand_essays = random.sample(range(1,len(data_essays)-1),250)"
   ]
  },
  {
   "cell_type": "code",
   "execution_count": 6,
   "metadata": {
    "collapsed": false
   },
   "outputs": [],
   "source": [
    "test_fb = data_fb.iloc[rand_fb].copy()\n",
    "train_fb = data_fb.drop(rand_fb)\n",
    "\n",
    "test_essays = data_essays.iloc[rand_essays].copy()\n",
    "train_essays = data_essays.drop(rand_essays)"
   ]
  },
  {
   "cell_type": "code",
   "execution_count": 7,
   "metadata": {
    "collapsed": false
   },
   "outputs": [],
   "source": [
    "train_fb.drop(train_fb.columns[[1,7,8,9,10,11]], axis=1, inplace=True)\n",
    "test_fb.drop(test_fb.columns[[1,7,8,9,10,11]], axis=1, inplace=True)\n",
    "\n",
    "train_essays.drop(train_essays.columns[[1]], axis=1, inplace=True)\n",
    "test_essays.drop(test_essays.columns[[1]], axis=1, inplace=True)"
   ]
  },
  {
   "cell_type": "code",
   "execution_count": 8,
   "metadata": {
    "collapsed": false
   },
   "outputs": [],
   "source": [
    "from sklearn.feature_extraction.text import CountVectorizer\n",
    "from sklearn.feature_extraction.text import TfidfTransformer\n",
    "from sklearn.tree import DecisionTreeClassifier\n",
    "from sklearn.ensemble import RandomForestClassifier\n",
    "import numpy as np\n",
    "\n",
    "corpus_fb = []\n",
    "truth_fb = []\n",
    "for row in train_fb.iterrows():\n",
    "    Y = [0,0,0,0,0]\n",
    "    corpus_fb.append(row[1]['STATUS'])\n",
    "    if row[1]['AGR'] == 'y': Y[0] = 1\n",
    "    if row[1]['CON'] == 'y': Y[1] = 1\n",
    "    if row[1]['EXT'] == 'y': Y[2] = 1\n",
    "    if row[1]['NEU'] == 'y': Y[3] = 1\n",
    "    if row[1]['OPN'] == 'y': Y[4] = 1\n",
    "    truth_fb.append(Y)\n",
    "truth_fb = np.array(truth_fb)\n",
    "\n",
    "corpus_essays = []\n",
    "truth_essays = []\n",
    "for row in train_essays.iterrows():\n",
    "    Y = [0,0,0,0,0]\n",
    "    corpus_essays.append(row[1]['STATUS'])\n",
    "    if row[1]['AGR'] == 'y': Y[0] = 1\n",
    "    if row[1]['CON'] == 'y': Y[1] = 1\n",
    "    if row[1]['EXT'] == 'y': Y[2] = 1\n",
    "    if row[1]['NEU'] == 'y': Y[3] = 1\n",
    "    if row[1]['OPN'] == 'y': Y[4] = 1\n",
    "    truth_essays.append(Y)\n",
    "truth_essays = np.array(truth_essays)"
   ]
  },
  {
   "cell_type": "code",
   "execution_count": 9,
   "metadata": {
    "collapsed": false
   },
   "outputs": [],
   "source": [
    "vectorizer_fb = CountVectorizer(analyzer=\"word\", token_pattern=\"[a-zA-Z]*\", lowercase=True, stop_words=\"english\")\n",
    "x_fb = vectorizer_fb.fit_transform(corpus_fb)\n",
    "tfidf_transformer_fb = TfidfTransformer()\n",
    "X_fb = tfidf_transformer_fb.fit_transform(x_fb)\n",
    "\n",
    "vectorizer_essays = CountVectorizer(analyzer=\"word\", token_pattern=\"[a-zA-Z]*\", lowercase=True, stop_words=\"english\")\n",
    "x_essays = vectorizer_essays.fit_transform(corpus_essays)\n",
    "tfidf_transformer_essays = TfidfTransformer()\n",
    "X_essays = tfidf_transformer_essays.fit_transform(x_essays)"
   ]
  },
  {
   "cell_type": "code",
   "execution_count": 10,
   "metadata": {
    "collapsed": false
   },
   "outputs": [],
   "source": [
    "clf_DT_fb = DecisionTreeClassifier().fit(X_fb, truth_fb)\n",
    "clf_RF_fb = RandomForestClassifier().fit(X_fb, truth_fb)\n",
    "\n",
    "clf_DT_essays = DecisionTreeClassifier().fit(X_essays, truth_essays)\n",
    "clf_RF_essays = RandomForestClassifier().fit(X_essays, truth_essays)"
   ]
  },
  {
   "cell_type": "code",
   "execution_count": 11,
   "metadata": {
    "collapsed": false
   },
   "outputs": [],
   "source": [
    "test_data_fb = []\n",
    "truth_test_fb = []\n",
    "for row in test_fb.iterrows():\n",
    "    Y = [0,0,0,0,0]\n",
    "    test_data_fb.append(row[1]['STATUS'])\n",
    "    if row[1]['AGR'] == 'y': Y[0] = 1\n",
    "    if row[1]['CON'] == 'y': Y[1] = 1\n",
    "    if row[1]['EXT'] == 'y': Y[2] = 1\n",
    "    if row[1]['NEU'] == 'y': Y[3] = 1\n",
    "    if row[1]['OPN'] == 'y': Y[4] = 1\n",
    "    truth_test_fb.append(Y)\n",
    "truth_test_fb = np.array(truth_test_fb)\n",
    "\n",
    "test_data_essays = []\n",
    "truth_test_essays = []\n",
    "for row in test_essays.iterrows():\n",
    "    Y = [0,0,0,0,0]\n",
    "    test_data_essays.append(row[1]['STATUS'])\n",
    "    if row[1]['AGR'] == 'y': Y[0] = 1\n",
    "    if row[1]['CON'] == 'y': Y[1] = 1\n",
    "    if row[1]['EXT'] == 'y': Y[2] = 1\n",
    "    if row[1]['NEU'] == 'y': Y[3] = 1\n",
    "    if row[1]['OPN'] == 'y': Y[4] = 1\n",
    "    truth_test_essays.append(Y)\n",
    "truth_test_essays = np.array(truth_test_essays)\n",
    "\n",
    "x_test_fb = vectorizer_fb.transform(test_data_fb)\n",
    "X_test_fb = tfidf_transformer_fb.transform(x_test_fb)\n",
    "x_test_fb_essays = vectorizer_fb.transform(test_data_essays)\n",
    "X_test_fb_essays = tfidf_transformer_fb.transform(x_test_fb_essays)\n",
    "\n",
    "x_test_essays = vectorizer_essays.transform(test_data_essays)\n",
    "X_test_essays = tfidf_transformer_essays.transform(x_test_essays)\n",
    "x_test_essays_fb = vectorizer_essays.transform(test_data_fb)\n",
    "X_test_essays_fb = tfidf_transformer_essays.transform(x_test_essays_fb)"
   ]
  },
  {
   "cell_type": "code",
   "execution_count": 12,
   "metadata": {
    "collapsed": false
   },
   "outputs": [],
   "source": [
    "output_DT_fb = clf_DT_fb.predict(X_test_fb)\n",
    "output_RF_fb = clf_RF_fb.predict(X_test_fb)\n",
    "output_DT_fb_essays = clf_DT_fb.predict(X_test_fb_essays)\n",
    "output_RF_fb_essays = clf_RF_fb.predict(X_test_fb_essays)\n",
    "\n",
    "output_DT_essays = clf_DT_essays.predict(X_test_essays)\n",
    "output_RF_essays = clf_RF_essays.predict(X_test_essays)\n",
    "output_DT_essays_fb = clf_DT_essays.predict(X_test_essays_fb)\n",
    "output_RF_essays_fb = clf_RF_essays.predict(X_test_essays_fb)"
   ]
  },
  {
   "cell_type": "code",
   "execution_count": 13,
   "metadata": {
    "collapsed": false
   },
   "outputs": [
    {
     "name": "stdout",
     "output_type": "stream",
     "text": [
      "Data for FB DT\n",
      "0.899\n",
      "0.0484\n",
      "RMSE - AGR for interation : 0.2345207879911715\n",
      "RMSE - CON for interation : 0.216794833886788\n",
      "RMSE - EXT for interation : 0.24083189157584592\n",
      "RMSE - NEU for interation : 0.22135943621178655\n",
      "RMSE - OPN for interation : 0.1816590212458495\n",
      "Data for FB RF\n",
      "0.84\n",
      "0.057\n",
      "RMSE - AGR for interation : 0.23664319132398465\n",
      "RMSE - CON for interation : 0.24899799195977465\n",
      "RMSE - EXT for interation : 0.25298221281347033\n",
      "RMSE - NEU for interation : 0.2569046515733026\n",
      "RMSE - OPN for interation : 0.19235384061671346\n",
      "Data for FB-Essays DT\n",
      "0.036\n",
      "0.5048\n",
      "RMSE - AGR for interation : 0.7071067811865476\n",
      "RMSE - CON for interation : 0.7509993342207435\n",
      "RMSE - EXT for interation : 0.7183313998427189\n",
      "RMSE - NEU for interation : 0.6811754546370561\n",
      "RMSE - OPN for interation : 0.6928203230275509\n",
      "Data for FB-Essays RF\n",
      "0.02\n",
      "0.4928\n",
      "RMSE - AGR for interation : 0.6841052550594828\n",
      "RMSE - CON for interation : 0.7071067811865476\n",
      "RMSE - EXT for interation : 0.74565407529229\n",
      "RMSE - NEU for interation : 0.7071067811865476\n",
      "RMSE - OPN for interation : 0.6633249580710799\n"
     ]
    }
   ],
   "source": [
    "from math import sqrt\n",
    "from sklearn.metrics import accuracy_score, hamming_loss, mean_squared_error\n",
    "\n",
    "print(\"Data for FB DT\")\n",
    "print(accuracy_score(truth_test_fb, output_DT_fb, normalize=True))\n",
    "print(hamming_loss(truth_test_fb, output_DT_fb))\n",
    "err = [sqrt(mean_squared_error(truth_test_fb[:,i], output_DT_fb[:,i])) for i in range(len(truth_test_fb[0,:]))]\n",
    "print(\"RMSE - AGR for interation : \" + str(err[0]))\n",
    "print(\"RMSE - CON for interation : \" + str(err[1]))\n",
    "print(\"RMSE - EXT for interation : \" + str(err[2]))\n",
    "print(\"RMSE - NEU for interation : \" + str(err[3]))\n",
    "print(\"RMSE - OPN for interation : \" + str(err[4]))\n",
    "\n",
    "print(\"Data for FB RF\")\n",
    "print(accuracy_score(truth_test_fb, output_RF_fb, normalize=True))\n",
    "print(hamming_loss(truth_test_fb, output_RF_fb))\n",
    "err = [sqrt(mean_squared_error(truth_test_fb[:,i], output_RF_fb[:,i])) for i in range(len(truth_test_fb[0,:]))]\n",
    "print(\"RMSE - AGR for interation : \" + str(err[0]))\n",
    "print(\"RMSE - CON for interation : \" + str(err[1]))\n",
    "print(\"RMSE - EXT for interation : \" + str(err[2]))\n",
    "print(\"RMSE - NEU for interation : \" + str(err[3]))\n",
    "print(\"RMSE - OPN for interation : \" + str(err[4]))\n",
    "\n",
    "\n",
    "print(\"Data for FB-Essays DT\")\n",
    "print(accuracy_score(truth_test_essays, output_DT_fb_essays, normalize=True))\n",
    "print(hamming_loss(truth_test_essays, output_DT_fb_essays))\n",
    "err = [sqrt(mean_squared_error(truth_test_essays[:,i], output_DT_fb_essays[:,i])) for i in range(len(truth_test_essays[0,:]))]\n",
    "print(\"RMSE - AGR for interation : \" + str(err[0]))\n",
    "print(\"RMSE - CON for interation : \" + str(err[1]))\n",
    "print(\"RMSE - EXT for interation : \" + str(err[2]))\n",
    "print(\"RMSE - NEU for interation : \" + str(err[3]))\n",
    "print(\"RMSE - OPN for interation : \" + str(err[4]))\n",
    "\n",
    "print(\"Data for FB-Essays RF\")\n",
    "print(accuracy_score(truth_test_essays, output_RF_fb_essays, normalize=True))\n",
    "print(hamming_loss(truth_test_essays, output_RF_fb_essays))\n",
    "err = [sqrt(mean_squared_error(truth_test_essays[:,i], output_RF_fb_essays[:,i])) for i in range(len(truth_test_essays[0,:]))]\n",
    "print(\"RMSE - AGR for interation : \" + str(err[0]))\n",
    "print(\"RMSE - CON for interation : \" + str(err[1]))\n",
    "print(\"RMSE - EXT for interation : \" + str(err[2]))\n",
    "print(\"RMSE - NEU for interation : \" + str(err[3]))\n",
    "print(\"RMSE - OPN for interation : \" + str(err[4]))"
   ]
  },
  {
   "cell_type": "code",
   "execution_count": 14,
   "metadata": {
    "collapsed": false
   },
   "outputs": [
    {
     "name": "stdout",
     "output_type": "stream",
     "text": [
      "Data for Essays DT\n",
      "0.888\n",
      "0.0488\n",
      "RMSE - AGR for interation : 0.2449489742783178\n",
      "RMSE - CON for interation : 0.15491933384829668\n",
      "RMSE - EXT for interation : 0.25298221281347033\n",
      "RMSE - NEU for interation : 0.2\n",
      "RMSE - OPN for interation : 0.23664319132398465\n",
      "Data for Essays RF\n",
      "0.856\n",
      "0.0704\n",
      "RMSE - AGR for interation : 0.23664319132398465\n",
      "RMSE - CON for interation : 0.260768096208106\n",
      "RMSE - EXT for interation : 0.30331501776206204\n",
      "RMSE - NEU for interation : 0.25298221281347033\n",
      "RMSE - OPN for interation : 0.2683281572999748\n",
      "Data for Essays-FB DT\n",
      "0.036\n",
      "0.4558\n",
      "RMSE - AGR for interation : 0.7238784428341544\n",
      "RMSE - CON for interation : 0.724568837309472\n",
      "RMSE - EXT for interation : 0.737563556583431\n",
      "RMSE - NEU for interation : 0.6316644678941503\n",
      "RMSE - OPN for interation : 0.5357238094391549\n",
      "Data for Essays-FB RF\n",
      "0.03\n",
      "0.4464\n",
      "RMSE - AGR for interation : 0.7300684899377592\n",
      "RMSE - CON for interation : 0.7273238618387272\n",
      "RMSE - EXT for interation : 0.7443117626371358\n",
      "RMSE - NEU for interation : 0.6033241251599343\n",
      "RMSE - OPN for interation : 0.5019960159204453\n"
     ]
    }
   ],
   "source": [
    "print(\"Data for Essays DT\")\n",
    "print(accuracy_score(truth_test_essays, output_DT_essays, normalize=True))\n",
    "print(hamming_loss(truth_test_essays, output_DT_essays))\n",
    "err = [sqrt(mean_squared_error(truth_test_essays[:,i], output_DT_essays[:,i])) for i in range(len(truth_test_essays[0,:]))]\n",
    "print(\"RMSE - AGR for interation : \" + str(err[0]))\n",
    "print(\"RMSE - CON for interation : \" + str(err[1]))\n",
    "print(\"RMSE - EXT for interation : \" + str(err[2]))\n",
    "print(\"RMSE - NEU for interation : \" + str(err[3]))\n",
    "print(\"RMSE - OPN for interation : \" + str(err[4]))\n",
    "\n",
    "print(\"Data for Essays RF\")\n",
    "print(accuracy_score(truth_test_essays, output_RF_essays, normalize=True))\n",
    "print(hamming_loss(truth_test_essays, output_RF_essays))\n",
    "err = [sqrt(mean_squared_error(truth_test_essays[:,i], output_RF_essays[:,i])) for i in range(len(truth_test_essays[0,:]))]\n",
    "print(\"RMSE - AGR for interation : \" + str(err[0]))\n",
    "print(\"RMSE - CON for interation : \" + str(err[1]))\n",
    "print(\"RMSE - EXT for interation : \" + str(err[2]))\n",
    "print(\"RMSE - NEU for interation : \" + str(err[3]))\n",
    "print(\"RMSE - OPN for interation : \" + str(err[4]))\n",
    "\n",
    "print(\"Data for Essays-FB DT\")\n",
    "print(accuracy_score(truth_test_fb, output_DT_essays_fb, normalize=True))\n",
    "print(hamming_loss(truth_test_fb, output_DT_essays_fb))\n",
    "err = [sqrt(mean_squared_error(truth_test_fb[:,i], output_DT_essays_fb[:,i])) for i in range(len(truth_test_fb[0,:]))]\n",
    "print(\"RMSE - AGR for interation : \" + str(err[0]))\n",
    "print(\"RMSE - CON for interation : \" + str(err[1]))\n",
    "print(\"RMSE - EXT for interation : \" + str(err[2]))\n",
    "print(\"RMSE - NEU for interation : \" + str(err[3]))\n",
    "print(\"RMSE - OPN for interation : \" + str(err[4]))\n",
    "\n",
    "print(\"Data for Essays-FB RF\")\n",
    "print(accuracy_score(truth_test_fb, output_RF_essays_fb, normalize=True))\n",
    "print(hamming_loss(truth_test_fb, output_RF_essays_fb))\n",
    "err = [sqrt(mean_squared_error(truth_test_fb[:,i], output_RF_essays_fb[:,i])) for i in range(len(truth_test_fb[0,:]))]\n",
    "print(\"RMSE - AGR for interation : \" + str(err[0]))\n",
    "print(\"RMSE - CON for interation : \" + str(err[1]))\n",
    "print(\"RMSE - EXT for interation : \" + str(err[2]))\n",
    "print(\"RMSE - NEU for interation : \" + str(err[3]))\n",
    "print(\"RMSE - OPN for interation : \" + str(err[4]))"
   ]
  },
  {
   "cell_type": "code",
   "execution_count": null,
   "metadata": {
    "collapsed": true
   },
   "outputs": [],
   "source": []
  },
  {
   "cell_type": "code",
   "execution_count": null,
   "metadata": {
    "collapsed": true
   },
   "outputs": [],
   "source": []
  }
 ],
 "metadata": {
  "anaconda-cloud": {},
  "kernelspec": {
   "display_name": "Python [conda root]",
   "language": "python",
   "name": "conda-root-py"
  },
  "language_info": {
   "codemirror_mode": {
    "name": "ipython",
    "version": 3
   },
   "file_extension": ".py",
   "mimetype": "text/x-python",
   "name": "python",
   "nbconvert_exporter": "python",
   "pygments_lexer": "ipython3",
   "version": "3.5.2"
  }
 },
 "nbformat": 4,
 "nbformat_minor": 1
}

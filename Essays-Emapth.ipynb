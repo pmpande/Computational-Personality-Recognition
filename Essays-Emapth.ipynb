{
 "cells": [
  {
   "cell_type": "code",
   "execution_count": 51,
   "metadata": {
    "collapsed": false
   },
   "outputs": [
    {
     "name": "stdout",
     "output_type": "stream",
     "text": [
      "2469\n"
     ]
    }
   ],
   "source": [
    "import pandas as pd\n",
    "import json as js\n",
    "\n",
    "with open(\"/u/pmpande/author_profiling/essays.json\") as f:\n",
    "    data_essays = pd.DataFrame(js.loads(line) for line in f)\n",
    "f.close()\n",
    "\n",
    "print(len(data_essays))"
   ]
  },
  {
   "cell_type": "code",
   "execution_count": 52,
   "metadata": {
    "collapsed": false
   },
   "outputs": [],
   "source": [
    "data_essays.drop(data_essays.head(1).index, inplace=True)"
   ]
  },
  {
   "cell_type": "code",
   "execution_count": null,
   "metadata": {
    "collapsed": false
   },
   "outputs": [
    {
     "name": "stdout",
     "output_type": "stream",
     "text": [
      "Accuracy for interation 0: 0.92\n",
      "RMSE for interation 0: 0.2\n",
      "RMSE for interation 0: 0.2449489742783178\n",
      "RMSE for interation 0: 0.2\n",
      "RMSE for interation 0: 0.17888543819998318\n",
      "RMSE for interation 0: 0.1673320053068151\n",
      "Hamming loss for interation 0: 0.04\n",
      "Accuracy for interation 1: 0.908\n",
      "RMSE for interation 1: 0.21908902300206645\n",
      "RMSE for interation 1: 0.22803508501982758\n",
      "RMSE for interation 1: 0.20976176963403032\n",
      "RMSE for interation 1: 0.21908902300206645\n",
      "RMSE for interation 1: 0.21908902300206645\n",
      "Hamming loss for interation 1: 0.048\n",
      "Accuracy for interation 2: 0.916\n",
      "RMSE for interation 2: 0.18973665961010275\n",
      "RMSE for interation 2: 0.25298221281347033\n",
      "RMSE for interation 2: 0.17888543819998318\n",
      "RMSE for interation 2: 0.17888543819998318\n",
      "RMSE for interation 2: 0.17888543819998318\n",
      "Hamming loss for interation 2: 0.0392\n"
     ]
    }
   ],
   "source": [
    "import random\n",
    "from sklearn.feature_extraction.text import CountVectorizer\n",
    "from sklearn.feature_extraction.text import TfidfTransformer\n",
    "from sklearn import tree\n",
    "from empath import Empath\n",
    "import numpy as np\n",
    "from sklearn.metrics import mean_squared_error\n",
    "from sklearn.metrics import hamming_loss\n",
    "from sklearn.metrics import accuracy_score\n",
    "from math import sqrt\n",
    "from sklearn import metrics\n",
    "from sklearn.preprocessing import normalize\n",
    "\n",
    "accuracy = 0.0\n",
    "rmse = 0.0\n",
    "h_loss = 0.0\n",
    "for i in range(10):\n",
    "    rand_essays = []\n",
    "    temp_data = data_essays.copy()\n",
    "    rand_essays = random.sample(range(1,len(temp_data)-1),250)\n",
    "    test = temp_data.iloc[rand_essays].copy()\n",
    "    train = temp_data.drop(rand_essays)\n",
    "    train.drop(train.columns[[1]], axis=1, inplace=True)\n",
    "    test.drop(test.columns[[1]], axis=1, inplace=True)\n",
    "    \n",
    "    corpus = []\n",
    "    truth = []\n",
    "    for row in train.iterrows():\n",
    "        Y = [0,0,0,0,0]\n",
    "        corpus.append(row[1]['STATUS'])\n",
    "        if row[1]['AGR'] == 'y': Y[0] = 1\n",
    "        if row[1]['CON'] == 'y': Y[1] = 1\n",
    "        if row[1]['EXT'] == 'y': Y[2] = 1\n",
    "        if row[1]['NEU'] == 'y': Y[3] = 1\n",
    "        if row[1]['OPN'] == 'y': Y[4] = 1\n",
    "        truth.append(Y)\n",
    "    truth = np.array(truth)    \n",
    "    lexicon = Empath()\n",
    "    feat = []\n",
    "    a = {}\n",
    "    for row in corpus:\n",
    "        a = lexicon.analyze(row, normalize=True)\n",
    "        temp = []\n",
    "        for k,v in a.items():\n",
    "            temp.append(v)\n",
    "        feat.append(temp)\n",
    "    feat = np.array(feat)\n",
    "    \n",
    "    feat_norm = normalize(feat, axis=1, norm='l1')\n",
    "    clf = tree.DecisionTreeClassifier()\n",
    "    clf = clf.fit(feat_norm, truth)\n",
    "    \n",
    "    test_data = []\n",
    "    truth_test = []\n",
    "    for row in test.iterrows():\n",
    "        Y = [0,0,0,0,0]\n",
    "        test_data.append(row[1]['STATUS'])\n",
    "        if row[1]['AGR'] == 'y': Y[0] = 1\n",
    "        if row[1]['CON'] == 'y': Y[1] = 1\n",
    "        if row[1]['EXT'] == 'y': Y[2] = 1\n",
    "        if row[1]['NEU'] == 'y': Y[3] = 1\n",
    "        if row[1]['OPN'] == 'y': Y[4] = 1\n",
    "        truth_test.append(Y)\n",
    "    truth_test = np.array(truth_test)    \n",
    "    test_feat = []\n",
    "    a_test = {}\n",
    "    for row in test_data:\n",
    "        a_test = lexicon.analyze(row, normalize=True)\n",
    "        temp = []\n",
    "        for k,v in a_test.items():\n",
    "            temp.append(v)\n",
    "        test_feat.append(temp)\n",
    "    test_feat = np.array(test_feat)\n",
    "    test_feat_norm = normalize(test_feat, axis=1, norm='l1')\n",
    "    output = clf.predict(test_feat_norm)\n",
    "    acc = accuracy_score(truth_test, output, normalize=True)\n",
    "    loss = hamming_loss(truth_test, output)\n",
    "    err = [sqrt(mean_squared_error(truth_test[:,i], output[:,i])) for i in range(len(truth_test[0,:]))] \n",
    "    accuracy += acc\n",
    "    #rmse += err\n",
    "    h_loss += loss\n",
    "    print(\"Accuracy for interation \" + str(i) + \": \" + str(acc))\n",
    "    for each in err:\n",
    "        print(\"RMSE for interation \" + str(i) + \": \" + str(each))\n",
    "    print(\"Hamming loss for interation \" + str(i) + \": \" + str(loss))\n",
    "    del test\n",
    "    del train\n",
    "    del temp_data\n",
    "\n",
    "print(\"Average accuracy is :\" + str(accuracy/10))\n",
    "#print(\"Average RMSE is :\" + str(rmse/10))\n",
    "print(\"Average Hamming loss is :\" + str(h_loss/10))"
   ]
  },
  {
   "cell_type": "code",
   "execution_count": null,
   "metadata": {
    "collapsed": true
   },
   "outputs": [],
   "source": []
  }
 ],
 "metadata": {
  "anaconda-cloud": {},
  "kernelspec": {
   "display_name": "Python [conda root]",
   "language": "python",
   "name": "conda-root-py"
  },
  "language_info": {
   "codemirror_mode": {
    "name": "ipython",
    "version": 3
   },
   "file_extension": ".py",
   "mimetype": "text/x-python",
   "name": "python",
   "nbconvert_exporter": "python",
   "pygments_lexer": "ipython3",
   "version": "3.5.2"
  }
 },
 "nbformat": 4,
 "nbformat_minor": 1
}

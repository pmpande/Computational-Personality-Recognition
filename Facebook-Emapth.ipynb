{
 "cells": [
  {
   "cell_type": "code",
   "execution_count": 14,
   "metadata": {
    "collapsed": false
   },
   "outputs": [
    {
     "name": "stdout",
     "output_type": "stream",
     "text": [
      "9917\n"
     ]
    }
   ],
   "source": [
    "import pandas as pd\n",
    "import json as js\n",
    "\n",
    "with open(\"/u/pmpande/author_profiling/fb.json\") as f:\n",
    "    data_essays = pd.DataFrame(js.loads(line) for line in f)\n",
    "f.close()\n",
    "\n",
    "print(len(data_essays))"
   ]
  },
  {
   "cell_type": "code",
   "execution_count": 15,
   "metadata": {
    "collapsed": false
   },
   "outputs": [],
   "source": [
    "data_essays.drop(data_essays.head(1).index, inplace=True)"
   ]
  },
  {
   "cell_type": "code",
   "execution_count": 16,
   "metadata": {
    "collapsed": false
   },
   "outputs": [
    {
     "name": "stdout",
     "output_type": "stream",
     "text": [
      "Accuracy for interation 0: 0.472\n",
      "Hamming Loss for interation 0: 0.2252\n",
      "RMSE for interation 0: 0.4745524207081869\n",
      "Accuracy for interation 1: 0.487\n",
      "Hamming Loss for interation 1: 0.2152\n",
      "RMSE for interation 1: 0.4638965401897281\n",
      "Accuracy for interation 2: 0.487\n",
      "Hamming Loss for interation 2: 0.2084\n",
      "RMSE for interation 2: 0.45650848842053304\n",
      "Accuracy for interation 3: 0.5\n",
      "Hamming Loss for interation 3: 0.2156\n",
      "RMSE for interation 3: 0.46432747064975594\n",
      "Accuracy for interation 4: 0.498\n",
      "Hamming Loss for interation 4: 0.2082\n",
      "RMSE for interation 4: 0.45628938186199336\n",
      "Accuracy for interation 5: 0.485\n",
      "Hamming Loss for interation 5: 0.213\n",
      "RMSE for interation 5: 0.46151923036857306\n",
      "Accuracy for interation 6: 0.491\n",
      "Hamming Loss for interation 6: 0.2104\n",
      "RMSE for interation 6: 0.4586937976471886\n",
      "Accuracy for interation 7: 0.483\n",
      "Hamming Loss for interation 7: 0.2192\n",
      "RMSE for interation 7: 0.468187996428785\n",
      "Accuracy for interation 8: 0.496\n",
      "Hamming Loss for interation 8: 0.211\n",
      "RMSE for interation 8: 0.4593473631142341\n",
      "Accuracy for interation 9: 0.477\n",
      "Hamming Loss for interation 9: 0.2186\n",
      "RMSE for interation 9: 0.46754678910243835\n",
      "-------------------------------\n",
      "Average accuracy is :0.4876\n",
      "Average haming loss is :0.21448\n",
      "Average RMSE loss is :0.4630869478491417\n"
     ]
    }
   ],
   "source": [
    "import random\n",
    "from sklearn.feature_extraction.text import CountVectorizer\n",
    "from sklearn.feature_extraction.text import TfidfTransformer\n",
    "from sklearn import tree\n",
    "from empath import Empath\n",
    "import numpy as np\n",
    "from sklearn.metrics import mean_squared_error\n",
    "from math import sqrt\n",
    "from sklearn import metrics\n",
    "from sklearn.metrics import hamming_loss\n",
    "from sklearn.metrics import accuracy_score\n",
    "from sklearn.preprocessing import normalize\n",
    "\n",
    "accuracy = 0.0\n",
    "rmse = 0.0\n",
    "h_loss = 0.0\n",
    "for i in range(10):\n",
    "    rand_essays = []\n",
    "    temp_data = data_essays.copy()\n",
    "    rand_essays = random.sample(range(1,len(temp_data)-1),1000)\n",
    "    test = temp_data.iloc[rand_essays].copy()\n",
    "    train = temp_data.drop(rand_essays)\n",
    "    train.drop(train.columns[[1,7,8,9,10,11]], axis=1, inplace=True)\n",
    "    test.drop(test.columns[[1,7,8,9,10,11]], axis=1, inplace=True)\n",
    "    \n",
    "    corpus = []\n",
    "    truth = []\n",
    "    for row in train.iterrows():\n",
    "        Y = [0,0,0,0,0]\n",
    "        corpus.append(row[1]['STATUS'])\n",
    "        if row[1]['AGR'] == 'y': Y[0] = 1\n",
    "        if row[1]['CON'] == 'y': Y[1] = 1\n",
    "        if row[1]['EXT'] == 'y': Y[2] = 1\n",
    "        if row[1]['NEU'] == 'y': Y[3] = 1\n",
    "        if row[1]['OPN'] == 'y': Y[4] = 1\n",
    "        truth.append(Y)\n",
    "    truth = np.array(truth)    \n",
    "    lexicon = Empath()\n",
    "    feat = []\n",
    "    a = {}\n",
    "    for row in corpus:\n",
    "        a = lexicon.analyze(row, normalize=True)\n",
    "        temp = []\n",
    "        for k,v in a.items():\n",
    "            temp.append(v)\n",
    "        feat.append(temp)\n",
    "    feat = np.array(feat)\n",
    "    feat_norm = normalize(feat, axis=1, norm='l1')\n",
    "    clf = tree.DecisionTreeClassifier()\n",
    "    clf = clf.fit(feat_norm, truth)\n",
    "    \n",
    "    test_data = []\n",
    "    truth_test = []\n",
    "    for row in test.iterrows():\n",
    "        Y = [0,0,0,0,0]\n",
    "        test_data.append(row[1]['STATUS'])\n",
    "        if row[1]['AGR'] == 'y': Y[0] = 1\n",
    "        if row[1]['CON'] == 'y': Y[1] = 1\n",
    "        if row[1]['EXT'] == 'y': Y[2] = 1\n",
    "        if row[1]['NEU'] == 'y': Y[3] = 1\n",
    "        if row[1]['OPN'] == 'y': Y[4] = 1\n",
    "        truth_test.append(Y)\n",
    "    truth_test = np.array(truth_test)    \n",
    "    test_feat = []\n",
    "    a_test = {}\n",
    "    for row in test_data:\n",
    "        a_test = lexicon.analyze(row, normalize=True)\n",
    "        temp = []\n",
    "        for k,v in a_test.items():\n",
    "            temp.append(v)\n",
    "        test_feat.append(temp)\n",
    "    test_feat = np.array(test_feat)\n",
    "    test_feat_norm = normalize(test_feat, axis=1, norm='l1')\n",
    "    output = clf.predict(test_feat_norm)\n",
    "    err = [sqrt(mean_squared_error(truth_test[:,i], output[:,i])) for i in range(len(truth_test[0,:]))] \n",
    "    acc = accuracy_score(truth_test, output, normalize=True)\n",
    "    loss = hamming_loss(truth_test, output)\n",
    "    accuracy += acc\n",
    "    #rmse += err\n",
    "    h_loss += loss\n",
    "    print(\"Accuracy for interation \" + str(i) + \": \" + str(acc))\n",
    "    print(\"Hamming Loss for interation \" + str(i) + \": \" + str(loss))\n",
    "    for each in err:\n",
    "        print(\"RMSE for interation \" + str(i) + \": \" + str(each))\n",
    "    del test\n",
    "    del train\n",
    "    del temp_data\n",
    "print(\"-------------------------------\")\n",
    "print(\"Average accuracy is :\" + str(accuracy/10))\n",
    "print(\"Average haming loss is :\" + str(h_loss/10))\n",
    "#print(\"Average RMSE loss is :\" + str(rmse/10))"
   ]
  },
  {
   "cell_type": "code",
   "execution_count": null,
   "metadata": {
    "collapsed": true
   },
   "outputs": [],
   "source": []
  }
 ],
 "metadata": {
  "anaconda-cloud": {},
  "kernelspec": {
   "display_name": "Python [conda root]",
   "language": "python",
   "name": "conda-root-py"
  },
  "language_info": {
   "codemirror_mode": {
    "name": "ipython",
    "version": 3
   },
   "file_extension": ".py",
   "mimetype": "text/x-python",
   "name": "python",
   "nbconvert_exporter": "python",
   "pygments_lexer": "ipython3",
   "version": "3.5.2"
  }
 },
 "nbformat": 4,
 "nbformat_minor": 1
}
